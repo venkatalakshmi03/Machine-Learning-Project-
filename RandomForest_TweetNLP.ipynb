{
  "nbformat": 4,
  "nbformat_minor": 0,
  "metadata": {
    "colab": {
      "name": "RandomForest-TweetNLP.ipynb",
      "provenance": [],
      "collapsed_sections": []
    },
    "kernelspec": {
      "name": "python3",
      "display_name": "Python 3"
    },
    "language_info": {
      "name": "python"
    }
  },
  "cells": [
    {
      "cell_type": "code",
      "metadata": {
        "id": "Agvv1JkqideK"
      },
      "source": [
        "from google.colab import drive\n",
        "\n",
        "import pandas as pd\n",
        "import numpy as np\n",
        "import time\n",
        "\n",
        "import matplotlib.pyplot as plt\n",
        "from scipy.sparse import coo_matrix\n",
        "import seaborn as sbn\n",
        "\n",
        "import nltk\n",
        "from nltk.tokenize import word_tokenize\n",
        "from nltk.stem import WordNetLemmatizer\n",
        "\n",
        "import gensim\n",
        "from gensim.models import Word2Vec\n",
        "\n",
        "from sklearn.feature_extraction.text import CountVectorizer, TfidfTransformer\n",
        "from sklearn.ensemble import RandomForestClassifier\n",
        "from sklearn.metrics import plot_confusion_matrix, classification_report"
      ],
      "execution_count": null,
      "outputs": []
    },
    {
      "cell_type": "markdown",
      "metadata": {
        "id": "EelR4jinlxg6"
      },
      "source": [
        "#### Loading in data"
      ]
    },
    {
      "cell_type": "code",
      "metadata": {
        "colab": {
          "base_uri": "https://localhost:8080/"
        },
        "id": "6JhrSP9sjaoU",
        "outputId": "792142ca-ca32-4743-f216-a68af0a8ee5e"
      },
      "source": [
        "drive.mount(\"/content/drive\")\n",
        "filepath = \"/content/drive/MyDrive/CMPE257/project/\""
      ],
      "execution_count": null,
      "outputs": [
        {
          "output_type": "stream",
          "text": [
            "Mounted at /content/drive\n"
          ],
          "name": "stdout"
        }
      ]
    },
    {
      "cell_type": "code",
      "metadata": {
        "colab": {
          "base_uri": "https://localhost:8080/"
        },
        "id": "W8OmTJVXitw2",
        "outputId": "327335a6-1a0f-4415-eb9d-d21d7efa4a9d"
      },
      "source": [
        "train_df = pd.read_csv(filepath+ \"train.csv\")\n",
        "test_df = pd.read_csv(filepath + \"test.csv\")\n",
        "print(train_df.shape)\n",
        "print(test_df.shape)"
      ],
      "execution_count": null,
      "outputs": [
        {
          "output_type": "stream",
          "text": [
            "(7613, 5)\n",
            "(3263, 4)\n"
          ],
          "name": "stdout"
        }
      ]
    },
    {
      "cell_type": "markdown",
      "metadata": {
        "id": "BQ3idYWlF24j"
      },
      "source": [
        "#### Viewing data information"
      ]
    },
    {
      "cell_type": "code",
      "metadata": {
        "colab": {
          "base_uri": "https://localhost:8080/",
          "height": 206
        },
        "id": "rNZzDIIriwy6",
        "outputId": "0e9e65c3-3274-4cec-c52a-4bbbb4c2a486"
      },
      "source": [
        "train_df.head()"
      ],
      "execution_count": null,
      "outputs": [
        {
          "output_type": "execute_result",
          "data": {
            "text/html": [
              "<div>\n",
              "<style scoped>\n",
              "    .dataframe tbody tr th:only-of-type {\n",
              "        vertical-align: middle;\n",
              "    }\n",
              "\n",
              "    .dataframe tbody tr th {\n",
              "        vertical-align: top;\n",
              "    }\n",
              "\n",
              "    .dataframe thead th {\n",
              "        text-align: right;\n",
              "    }\n",
              "</style>\n",
              "<table border=\"1\" class=\"dataframe\">\n",
              "  <thead>\n",
              "    <tr style=\"text-align: right;\">\n",
              "      <th></th>\n",
              "      <th>id</th>\n",
              "      <th>keyword</th>\n",
              "      <th>location</th>\n",
              "      <th>text</th>\n",
              "      <th>target</th>\n",
              "    </tr>\n",
              "  </thead>\n",
              "  <tbody>\n",
              "    <tr>\n",
              "      <th>0</th>\n",
              "      <td>1</td>\n",
              "      <td>NaN</td>\n",
              "      <td>NaN</td>\n",
              "      <td>Our Deeds are the Reason of this #earthquake M...</td>\n",
              "      <td>1</td>\n",
              "    </tr>\n",
              "    <tr>\n",
              "      <th>1</th>\n",
              "      <td>4</td>\n",
              "      <td>NaN</td>\n",
              "      <td>NaN</td>\n",
              "      <td>Forest fire near La Ronge Sask. Canada</td>\n",
              "      <td>1</td>\n",
              "    </tr>\n",
              "    <tr>\n",
              "      <th>2</th>\n",
              "      <td>5</td>\n",
              "      <td>NaN</td>\n",
              "      <td>NaN</td>\n",
              "      <td>All residents asked to 'shelter in place' are ...</td>\n",
              "      <td>1</td>\n",
              "    </tr>\n",
              "    <tr>\n",
              "      <th>3</th>\n",
              "      <td>6</td>\n",
              "      <td>NaN</td>\n",
              "      <td>NaN</td>\n",
              "      <td>13,000 people receive #wildfires evacuation or...</td>\n",
              "      <td>1</td>\n",
              "    </tr>\n",
              "    <tr>\n",
              "      <th>4</th>\n",
              "      <td>7</td>\n",
              "      <td>NaN</td>\n",
              "      <td>NaN</td>\n",
              "      <td>Just got sent this photo from Ruby #Alaska as ...</td>\n",
              "      <td>1</td>\n",
              "    </tr>\n",
              "  </tbody>\n",
              "</table>\n",
              "</div>"
            ],
            "text/plain": [
              "   id keyword  ...                                               text target\n",
              "0   1     NaN  ...  Our Deeds are the Reason of this #earthquake M...      1\n",
              "1   4     NaN  ...             Forest fire near La Ronge Sask. Canada      1\n",
              "2   5     NaN  ...  All residents asked to 'shelter in place' are ...      1\n",
              "3   6     NaN  ...  13,000 people receive #wildfires evacuation or...      1\n",
              "4   7     NaN  ...  Just got sent this photo from Ruby #Alaska as ...      1\n",
              "\n",
              "[5 rows x 5 columns]"
            ]
          },
          "metadata": {
            "tags": []
          },
          "execution_count": 4
        }
      ]
    },
    {
      "cell_type": "code",
      "metadata": {
        "id": "ZQw64NB1iykZ"
      },
      "source": [
        "train_df.drop(columns=[\"id\"], inplace=True)\n",
        "kaggle_data = pd.DataFrame(test_df[\"id\"])\n",
        "test_df.drop(columns=[\"id\"], inplace=True)"
      ],
      "execution_count": null,
      "outputs": []
    },
    {
      "cell_type": "code",
      "metadata": {
        "colab": {
          "base_uri": "https://localhost:8080/"
        },
        "id": "o72u-fXGizRq",
        "outputId": "0abe49f2-a4b1-4145-b307-1319bd400e6e"
      },
      "source": [
        "print(train_df.isnull().sum())\n",
        "print(test_df.isnull().sum())"
      ],
      "execution_count": null,
      "outputs": [
        {
          "output_type": "stream",
          "text": [
            "keyword       61\n",
            "location    2533\n",
            "text           0\n",
            "target         0\n",
            "dtype: int64\n",
            "keyword       26\n",
            "location    1105\n",
            "text           0\n",
            "dtype: int64\n"
          ],
          "name": "stdout"
        }
      ]
    },
    {
      "cell_type": "markdown",
      "metadata": {
        "id": "GlfhuplzF_WW"
      },
      "source": [
        "#### Data cleaning"
      ]
    },
    {
      "cell_type": "code",
      "metadata": {
        "id": "9LZ3jOKfi1TP"
      },
      "source": [
        "# removing URLs and emojis and keep US alphabet and white spaces (i.e. remove numbers and other non alpabetic characters)\n",
        "regex_dont_remove = \"[^A-Za-z\\s]\"\n",
        "regex_remove = \"(\\w+)://([\\w\\-\\.]+)/(\\w+).(\\w+)|[\\U00010000-\\U0010ffff]\"\n",
        "train_df[\"text\"] = train_df[\"text\"].str.replace(r\"\" + regex_remove + \"|\" + regex_dont_remove,\"\")\n",
        "test_df[\"text\"] = test_df[\"text\"].str.replace(r\"\" + regex_remove + \"|\" + regex_dont_remove,\"\")"
      ],
      "execution_count": null,
      "outputs": []
    },
    {
      "cell_type": "code",
      "metadata": {
        "colab": {
          "base_uri": "https://localhost:8080/"
        },
        "id": "3UezIbhR8d17",
        "outputId": "e7145e3c-587e-4f93-fe80-2f9536990d63"
      },
      "source": [
        "# conversion to lowercase and lemmatization using nltk\n",
        "nltk.download(\"punkt\")\n",
        "nltk.download(\"wordnet\")\n",
        "lemmatizer = WordNetLemmatizer()\n",
        "def lemmatize(sentence):\n",
        "    tokens = [lemmatizer.lemmatize(w.lower()) for w in word_tokenize(sentence)]\n",
        "    return \" \".join(tokens)\n",
        "\n",
        "train_df[\"text\"] = train_df[\"text\"].apply(lemmatize)\n",
        "test_df[\"text\"] = test_df[\"text\"].apply(lemmatize)\n",
        "\n",
        "print(train_df.head())"
      ],
      "execution_count": null,
      "outputs": [
        {
          "output_type": "stream",
          "text": [
            "[nltk_data] Downloading package punkt to /root/nltk_data...\n",
            "[nltk_data]   Unzipping tokenizers/punkt.zip.\n",
            "[nltk_data] Downloading package wordnet to /root/nltk_data...\n",
            "[nltk_data]   Unzipping corpora/wordnet.zip.\n",
            "  keyword location                                               text  target\n",
            "0     NaN      NaN  our deed are the reason of this earthquake may...       1\n",
            "1     NaN      NaN              forest fire near la ronge sask canada       1\n",
            "2     NaN      NaN  all resident asked to shelter in place are bei...       1\n",
            "3     NaN      NaN  people receive wildfire evacuation order in ca...       1\n",
            "4     NaN      NaN  just got sent this photo from ruby alaska a sm...       1\n"
          ],
          "name": "stdout"
        }
      ]
    },
    {
      "cell_type": "markdown",
      "metadata": {
        "id": "bvuXFu2cGGX2"
      },
      "source": [
        "#### Playing with word2vec and word_tokenize (Not sure where to go with this yet)"
      ]
    },
    {
      "cell_type": "code",
      "metadata": {
        "id": "vrI1r5xLi277"
      },
      "source": [
        "# train_df[\"text\"] = train_df[\"text\"].apply(word_tokenize)\n",
        "# model = gensim.models.Word2Vec(train_df[\"text\"])"
      ],
      "execution_count": null,
      "outputs": []
    },
    {
      "cell_type": "markdown",
      "metadata": {
        "id": "sDo2Ka8uGTM3"
      },
      "source": [
        "#### Text feature extractions using sklearn's CountVectorizer & TfidfTransformer"
      ]
    },
    {
      "cell_type": "code",
      "metadata": {
        "colab": {
          "base_uri": "https://localhost:8080/"
        },
        "id": "WlMMtSGyi473",
        "outputId": "01510be2-3b84-4e2c-ce18-02335c8ecf99"
      },
      "source": [
        "# Leaving the NaN for keywords and location features\n",
        "\n",
        "# using the strip accent and stop word removal provided by sklearn's CountVectorizer\n",
        "# I needed to limit the max_features to work with the training dataset\n",
        "countVec = CountVectorizer(strip_accents=\"unicode\", stop_words=\"english\", max_features=9250)\n",
        "train_countVec = countVec.fit_transform(train_df[\"text\"])\n",
        "test_countVec = countVec.fit_transform(test_df[\"text\"])\n",
        "print(train_countVec.shape)\n",
        "print(test_countVec.shape)\n",
        "\n",
        "tfidf = TfidfTransformer()\n",
        "train_tfidf = tfidf.fit_transform(train_countVec)\n",
        "test_tfidf = tfidf.fit_transform(test_countVec)\n",
        "print(train_tfidf.shape)\n",
        "print(test_tfidf.shape)"
      ],
      "execution_count": null,
      "outputs": [
        {
          "output_type": "stream",
          "text": [
            "(7613, 9250)\n",
            "(3263, 9250)\n",
            "(7613, 9250)\n",
            "(3263, 9250)\n"
          ],
          "name": "stdout"
        }
      ]
    },
    {
      "cell_type": "code",
      "metadata": {
        "colab": {
          "base_uri": "https://localhost:8080/",
          "height": 281
        },
        "id": "a82_QsTyg3qg",
        "outputId": "8a456b40-59ac-4abf-ef79-2763430bf163"
      },
      "source": [
        "coo_mat = coo_matrix(train_countVec[:100])\n",
        "plt.scatter(coo_mat.row, coo_mat.col)\n",
        "plt.title(\"First 100 count vectors of training data\")\n",
        "plt.show()"
      ],
      "execution_count": null,
      "outputs": [
        {
          "output_type": "display_data",
          "data": {
            "image/png": "[encoded data removed]",
            "text/plain": [
              "<Figure size 432x288 with 1 Axes>"
            ]
          },
          "metadata": {
            "tags": [],
            "needs_background": "light"
          }
        }
      ]
    },
    {
      "cell_type": "markdown",
      "metadata": {
        "id": "hijb1tXCGl1L"
      },
      "source": [
        "#### Splitting train.csv into training & testing subsets"
      ]
    },
    {
      "cell_type": "code",
      "metadata": {
        "colab": {
          "base_uri": "https://localhost:8080/"
        },
        "id": "a_Hn-2QLi6t3",
        "outputId": "2850f36b-5f12-4f3d-8496-e77f8a796d59"
      },
      "source": [
        "train_percent = 0.7\n",
        "split_index = round(train_countVec.shape[0]*train_percent)\n",
        "\n",
        "x_train_countVec = train_countVec[:split_index]\n",
        "x_train_tfidf = train_tfidf[:split_index]\n",
        "y_train = train_df.iloc[:split_index, -1]\n",
        "print(x_train_tfidf.shape, x_train_countVec.shape, y_train.shape)\n",
        "\n",
        "x_test_countVec = train_countVec[split_index:]\n",
        "x_test_tfidf = train_tfidf[split_index:]\n",
        "y_test = train_df.iloc[split_index:, -1]\n",
        "print(x_test_tfidf.shape, x_test_countVec.shape, y_test.shape)"
      ],
      "execution_count": null,
      "outputs": [
        {
          "output_type": "stream",
          "text": [
            "(5329, 9250) (5329, 9250) (5329,)\n",
            "(2284, 9250) (2284, 9250) (2284,)\n"
          ],
          "name": "stdout"
        }
      ]
    },
    {
      "cell_type": "markdown",
      "metadata": {
        "id": "-VZnxAkUGvSO"
      },
      "source": [
        "#### Building and evaluating sklearn's RandomForestClassifier"
      ]
    },
    {
      "cell_type": "code",
      "metadata": {
        "colab": {
          "base_uri": "https://localhost:8080/",
          "height": 481
        },
        "id": "3heS7aUC6beM",
        "outputId": "0543b604-56bc-47f6-a2b6-99148a2dd86f"
      },
      "source": [
        "rfclf = RandomForestClassifier(criterion=\"gini\", max_depth=100, n_jobs=8)\n",
        "Tbegin = time.time()\n",
        "rfclf.fit(x_train_countVec, y_train)\n",
        "Tend = time.time()\n",
        "print(\"Evaluation score using only count vectorization:\", rfclf.score(x_test_countVec, y_test), \"Training time (s):\", Tend-Tbegin)\n",
        "print(classification_report(y_test, rfclf.predict(x_test_countVec)))\n",
        "plot_confusion_matrix(rfclf, x_test_countVec, y_test, cmap=\"Blues\", values_format='d')"
      ],
      "execution_count": null,
      "outputs": [
        {
          "output_type": "stream",
          "text": [
            "Evaluation score using only count vectorization: 0.7088441330998249 Training time (s): 5.1151745319366455\n",
            "              precision    recall  f1-score   support\n",
            "\n",
            "           0       0.67      0.94      0.78      1275\n",
            "           1       0.84      0.42      0.56      1009\n",
            "\n",
            "    accuracy                           0.71      2284\n",
            "   macro avg       0.76      0.68      0.67      2284\n",
            "weighted avg       0.75      0.71      0.68      2284\n",
            "\n"
          ],
          "name": "stdout"
        },
        {
          "output_type": "execute_result",
          "data": {
            "text/plain": [
              "<sklearn.metrics._plot.confusion_matrix.ConfusionMatrixDisplay at 0x7f1af10f4750>"
            ]
          },
          "metadata": {
            "tags": []
          },
          "execution_count": 13
        },
        {
          "output_type": "display_data",
          "data": {
            "image/png": "[encoded data removed]",
            "text/plain": [
              "<Figure size 432x288 with 2 Axes>"
            ]
          },
          "metadata": {
            "tags": [],
            "needs_background": "light"
          }
        }
      ]
    },
    {
      "cell_type": "code",
      "metadata": {
        "colab": {
          "base_uri": "https://localhost:8080/",
          "height": 485
        },
        "id": "ElPK7OwsFxJi",
        "outputId": "773ed478-b92b-4334-f883-6a078d08fba6"
      },
      "source": [
        "rfclf = RandomForestClassifier(criterion=\"gini\", max_depth=100, n_jobs=8)\n",
        "Tbegin = time.time()\n",
        "rfclf.fit(x_train_tfidf, y_train)\n",
        "Tend = time.time()\n",
        "print(\"Evaluation score using tf-idf:\", rfclf.score(x_test_tfidf, y_test), \"Training time (s):\", Tend-Tbegin)\n",
        "print(classification_report(y_test, rfclf.predict(x_test_tfidf)))\n",
        "plot_confusion_matrix(rfclf, x_test_tfidf, y_test, cmap=\"Blues\", values_format='d')"
      ],
      "execution_count": null,
      "outputs": [
        {
          "output_type": "stream",
          "text": [
            "Evaluation score using tf-idf: 0.7040280210157618 Training time (s): 4.5830605030059814\n",
            "              precision    recall  f1-score   support\n",
            "\n",
            "           0       0.67      0.94      0.78      1275\n",
            "           1       0.85      0.40      0.55      1009\n",
            "\n",
            "    accuracy                           0.70      2284\n",
            "   macro avg       0.76      0.67      0.66      2284\n",
            "weighted avg       0.75      0.70      0.68      2284\n",
            "\n"
          ],
          "name": "stdout"
        },
        {
          "output_type": "execute_result",
          "data": {
            "text/plain": [
              "<sklearn.metrics._plot.confusion_matrix.ConfusionMatrixDisplay at 0x7f1af1066690>"
            ]
          },
          "metadata": {
            "tags": []
          },
          "execution_count": 14
        },
        {
          "output_type": "display_data",
          "data": {
            "image/png": "[encoded data removed]",
            "text/plain": [
              "<Figure size 432x288 with 2 Axes>"
            ]
          },
          "metadata": {
            "tags": [],
            "needs_background": "light"
          }
        }
      ]
    },
    {
      "cell_type": "code",
      "metadata": {
        "id": "QaaO4Kvai-Xf"
      },
      "source": [
        "rfclf = RandomForestClassifier(criterion=\"gini\", max_depth=100, n_jobs=8)\n",
        "rfclf.fit(train_countVec, train_df[\"target\"])\n",
        "y_predict = rfclf.predict(test_countVec)\n",
        "kaggle_data[\"target\"] = y_predict\n",
        "kaggle_data.to_csv(filepath + \"nlp_disaster_tweets_kaggle_prediction.csv\", index=False)"
      ],
      "execution_count": null,
      "outputs": []
    },
    {
      "cell_type": "code",
      "metadata": {
        "colab": {
          "base_uri": "https://localhost:8080/"
        },
        "id": "TsWYOFZ6MSpu",
        "outputId": "61fd7aae-bf4c-4a03-f150-c0c632805162"
      },
      "source": [
        "print(\"Frequency of no disaster predictions\", kaggle_data[kaggle_data[\"target\"] == 0].count()[1])\n",
        "print(\"Frequency of disaster predictions\", kaggle_data[kaggle_data[\"target\"] == 1].count()[1])"
      ],
      "execution_count": null,
      "outputs": [
        {
          "output_type": "stream",
          "text": [
            "Frequency of no disaster predictions 3128\n",
            "Frequency of disaster predictions 135\n"
          ],
          "name": "stdout"
        }
      ]
    }
  ]
}